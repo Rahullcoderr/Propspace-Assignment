{
 "cells": [
  {
   "cell_type": "code",
   "execution_count": 21,
   "id": "a24a09a9-ad07-44f7-9e66-c5d180b7c125",
   "metadata": {},
   "outputs": [],
   "source": [
    "import os\n",
    "import numpy as np\n",
    "import cv2\n",
    "from tensorflow.keras.models import Sequential\n",
    "from tensorflow.keras.layers import Conv2D, MaxPooling2D, Flatten, Dense, Dropout\n",
    "from tensorflow.keras.utils import to_categorical\n"
   ]
  },
  {
   "cell_type": "code",
   "execution_count": 22,
   "id": "a469ccaa-7996-44b2-8603-0dbffb5b6444",
   "metadata": {},
   "outputs": [],
   "source": [
    "\n",
    "# Define image dimensions and channels\n",
    "image_height = 128  # Adjust based on your image dimensions\n",
    "image_width = 128   # Adjust based on your image dimensions\n",
    "num_channels = 3    # Assuming RGB images, change to 1 for grayscale"
   ]
  },
  {
   "cell_type": "code",
   "execution_count": 24,
   "id": "1263c85c-74d6-413a-8578-5c5eb368192e",
   "metadata": {},
   "outputs": [],
   "source": [
    "# Function to load and preprocess images\n",
    "def load_and_preprocess_images(folder_path, target_shape):\n",
    "    images = []\n",
    "    labels = []\n",
    "    label_map = {'No_Crop': 0, 'Growing': 1, 'Lush': 2}\n",
    "    for folder_name in os.listdir(folder_path):\n",
    "        folder_label = label_map.get(folder_name, -1)\n",
    "        if folder_label != -1:\n",
    "            for filename in os.listdir(os.path.join(folder_path, folder_name)):\n",
    "                if filename.endswith('.tif'):\n",
    "                    image_path = os.path.join(folder_path, folder_name, filename)\n",
    "                    # Load image\n",
    "                    image = cv2.imread(image_path)\n",
    "                    if image is not None:\n",
    "                        # Resize image to target shape\n",
    "                        image = cv2.resize(image, target_shape)\n",
    "                        images.append(image)\n",
    "                        labels.append(folder_label)\n",
    "                    else:\n",
    "                        print(f\"Error loading image: {image_path}\")\n",
    "    return np.array(images), to_categorical(labels, len(label_map))"
   ]
  },
  {
   "cell_type": "code",
   "execution_count": 25,
   "id": "2519130d-b4cd-4766-9176-9647c9f806a2",
   "metadata": {},
   "outputs": [
    {
     "name": "stderr",
     "output_type": "stream",
     "text": [
      "C:\\Users\\rahul\\anaconda3\\Lib\\site-packages\\keras\\src\\layers\\convolutional\\base_conv.py:99: UserWarning: Do not pass an `input_shape`/`input_dim` argument to a layer. When using Sequential models, prefer using an `Input(shape)` object as the first layer in the model instead.\n",
      "  super().__init__(\n"
     ]
    }
   ],
   "source": [
    "# Define the source folder containing the three subfolders\n",
    "source_folder = 'prospace_assignment'\n",
    "\n",
    "# Define the target image shape\n",
    "target_shape = (image_height, image_width)\n",
    "\n",
    "# Load and preprocess images with target shape\n",
    "images, labels_one_hot = load_and_preprocess_images(source_folder, target_shape)\n",
    "\n",
    "# Build CNN model\n",
    "model = Sequential([\n",
    "    Conv2D(32, (3, 3), activation='relu', input_shape=(image_height, image_width, num_channels)),\n",
    "    MaxPooling2D((2, 2)),\n",
    "    Conv2D(64, (3, 3), activation='relu'),\n",
    "    MaxPooling2D((2, 2)),\n",
    "    Flatten(),\n",
    "    Dense(128, activation='relu'),\n",
    "    Dropout(0.5),\n",
    "    Dense(len(label_map), activation='softmax')  # Output layer with classes\n",
    "])\n",
    "\n",
    "# Compile the model\n",
    "model.compile(optimizer='adam', loss='categorical_crossentropy', metrics=['accuracy'])"
   ]
  },
  {
   "cell_type": "code",
   "execution_count": 26,
   "id": "ab9ba5d3-66d4-4786-b1f3-f3e6a9c3c2af",
   "metadata": {},
   "outputs": [
    {
     "name": "stdout",
     "output_type": "stream",
     "text": [
      "Epoch 1/10\n",
      "\u001b[1m171/171\u001b[0m \u001b[32m━━━━━━━━━━━━━━━━━━━━\u001b[0m\u001b[37m\u001b[0m \u001b[1m39s\u001b[0m 204ms/step - accuracy: 0.5044 - loss: 43.2156 - val_accuracy: 0.0125 - val_loss: 1.6468\n",
      "Epoch 2/10\n",
      "\u001b[1m171/171\u001b[0m \u001b[32m━━━━━━━━━━━━━━━━━━━━\u001b[0m\u001b[37m\u001b[0m \u001b[1m34s\u001b[0m 200ms/step - accuracy: 0.6518 - loss: 0.7416 - val_accuracy: 0.0220 - val_loss: 2.0101\n",
      "Epoch 3/10\n",
      "\u001b[1m171/171\u001b[0m \u001b[32m━━━━━━━━━━━━━━━━━━━━\u001b[0m\u001b[37m\u001b[0m \u001b[1m34s\u001b[0m 200ms/step - accuracy: 0.6961 - loss: 0.6554 - val_accuracy: 0.0616 - val_loss: 2.2422\n",
      "Epoch 4/10\n",
      "\u001b[1m171/171\u001b[0m \u001b[32m━━━━━━━━━━━━━━━━━━━━\u001b[0m\u001b[37m\u001b[0m \u001b[1m34s\u001b[0m 200ms/step - accuracy: 0.7088 - loss: 0.6197 - val_accuracy: 0.0425 - val_loss: 3.1801\n",
      "Epoch 5/10\n",
      "\u001b[1m171/171\u001b[0m \u001b[32m━━━━━━━━━━━━━━━━━━━━\u001b[0m\u001b[37m\u001b[0m \u001b[1m35s\u001b[0m 205ms/step - accuracy: 0.7271 - loss: 0.5986 - val_accuracy: 0.0843 - val_loss: 2.5479\n",
      "Epoch 6/10\n",
      "\u001b[1m171/171\u001b[0m \u001b[32m━━━━━━━━━━━━━━━━━━━━\u001b[0m\u001b[37m\u001b[0m \u001b[1m36s\u001b[0m 209ms/step - accuracy: 0.7469 - loss: 0.5492 - val_accuracy: 0.0220 - val_loss: 3.4231\n",
      "Epoch 7/10\n",
      "\u001b[1m171/171\u001b[0m \u001b[32m━━━━━━━━━━━━━━━━━━━━\u001b[0m\u001b[37m\u001b[0m \u001b[1m36s\u001b[0m 208ms/step - accuracy: 0.7521 - loss: 0.5391 - val_accuracy: 0.0330 - val_loss: 3.9415\n",
      "Epoch 8/10\n",
      "\u001b[1m171/171\u001b[0m \u001b[32m━━━━━━━━━━━━━━━━━━━━\u001b[0m\u001b[37m\u001b[0m \u001b[1m36s\u001b[0m 208ms/step - accuracy: 0.7960 - loss: 0.4747 - val_accuracy: 0.0777 - val_loss: 3.3271\n",
      "Epoch 9/10\n",
      "\u001b[1m171/171\u001b[0m \u001b[32m━━━━━━━━━━━━━━━━━━━━\u001b[0m\u001b[37m\u001b[0m \u001b[1m34s\u001b[0m 199ms/step - accuracy: 0.7676 - loss: 0.5291 - val_accuracy: 0.0293 - val_loss: 4.0783\n",
      "Epoch 10/10\n",
      "\u001b[1m171/171\u001b[0m \u001b[32m━━━━━━━━━━━━━━━━━━━━\u001b[0m\u001b[37m\u001b[0m \u001b[1m35s\u001b[0m 203ms/step - accuracy: 0.7915 - loss: 0.4803 - val_accuracy: 0.0396 - val_loss: 5.1101\n"
     ]
    },
    {
     "data": {
      "text/plain": [
       "<keras.src.callbacks.history.History at 0x2d02e108b50>"
      ]
     },
     "execution_count": 26,
     "metadata": {},
     "output_type": "execute_result"
    }
   ],
   "source": [
    "\n",
    "# Train the model\n",
    "batch_size = 32\n",
    "epochs = 10\n",
    "model.fit(images, labels_one_hot, batch_size=batch_size, epochs=epochs, validation_split=0.2)"
   ]
  }
 ],
 "metadata": {
  "kernelspec": {
   "display_name": "Python 3 (ipykernel)",
   "language": "python",
   "name": "python3"
  },
  "language_info": {
   "codemirror_mode": {
    "name": "ipython",
    "version": 3
   },
   "file_extension": ".py",
   "mimetype": "text/x-python",
   "name": "python",
   "nbconvert_exporter": "python",
   "pygments_lexer": "ipython3",
   "version": "3.11.7"
  }
 },
 "nbformat": 4,
 "nbformat_minor": 5
}
